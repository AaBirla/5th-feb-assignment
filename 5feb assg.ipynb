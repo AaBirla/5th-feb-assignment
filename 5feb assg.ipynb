{
 "cells": [
  {
   "cell_type": "markdown",
   "id": "be8221ad-f114-482a-ae76-5ad98bc0d9fa",
   "metadata": {},
   "source": [
    "### Q1. Explain Class and Object with respect to Object-Oriented Programming. Give a suitable example"
   ]
  },
  {
   "cell_type": "markdown",
   "id": "109a0e83-98a2-4232-a7af-e181fd23a68c",
   "metadata": {},
   "source": [
    "'''Class and Object are fundamental concepts in Object-Oriented Programming (OOP). A Class is a blueprint or that defines the properties and methods of a specific type of object. It serves as a blueprint for creating objects and encapsulates data and behavior.\n",
    "\n",
    "An Object is an instance of a class. It is a real-world entity that has its own properties (state) and behavior (methods). An object can be thought of as a specific occurrence of a class, with its own unique values for the properties defined by the class.\n",
    "\n",
    "For example, consider a \"Person\" class with properties such as name, age, and address and methods such as walk and talk. Each individual person can be thought of as an object of the \"Person\" class, having their own unique name, age, address, and behavior.'''"
   ]
  },
  {
   "cell_type": "code",
   "execution_count": null,
   "id": "ad39819f-5d79-444c-a34e-17c0303e1a7e",
   "metadata": {},
   "outputs": [],
   "source": []
  },
  {
   "cell_type": "markdown",
   "id": "ae1ed093-0e7b-4100-9231-287c6636157f",
   "metadata": {},
   "source": [
    "### Q2. Name the four pillars of OOPs."
   ]
  },
  {
   "cell_type": "markdown",
   "id": "0ec11856-d4b7-46fa-965a-5f13586f23aa",
   "metadata": {},
   "source": [
    "Encapsulation, Abstraction, Inheritance, Polymorphism"
   ]
  },
  {
   "cell_type": "code",
   "execution_count": null,
   "id": "de1dcbc9-1b2b-48e0-a342-cf4fe508b8d2",
   "metadata": {},
   "outputs": [],
   "source": []
  },
  {
   "cell_type": "markdown",
   "id": "32f9ba6e-0a64-4d49-900d-a0cd41a97b45",
   "metadata": {},
   "source": [
    "### Q3. Explain why the init() function is used. Give a suitable example."
   ]
  },
  {
   "cell_type": "markdown",
   "id": "a7b49e53-d5b7-49a0-9a4c-a7342aa61789",
   "metadata": {},
   "source": [
    "'''The init() function is also known as a constructor. The init() function is used to initialize the state of an object when it is created, by setting its initial values for the attributes defined by the class'''"
   ]
  },
  {
   "cell_type": "code",
   "execution_count": null,
   "id": "2b80a8c9-a449-4bb1-9dac-32a0153fa589",
   "metadata": {},
   "outputs": [],
   "source": [
    "#example:\n",
    "\n",
    "class Person:\n",
    "    \n",
    "    def __init__(self,name,age,gender):\n",
    "        self.name=name\n",
    "        self.age=age\n",
    "        self.gender=gender\n",
    "        \n",
    "p=Person('Ashish Birla',21,'Male')"
   ]
  },
  {
   "cell_type": "code",
   "execution_count": null,
   "id": "33048f30-fa14-4f76-9388-3a5003d744cf",
   "metadata": {},
   "outputs": [],
   "source": [
    "p.age,p.gender,p.name"
   ]
  },
  {
   "cell_type": "code",
   "execution_count": null,
   "id": "9bb42370-cbab-4c6a-8b08-4390c0bf66c4",
   "metadata": {},
   "outputs": [],
   "source": []
  },
  {
   "cell_type": "markdown",
   "id": "ae3cd5f2-e916-41c5-b64a-db16f42761ae",
   "metadata": {},
   "source": [
    "### Q4. Why self is used in OOPs?"
   ]
  },
  {
   "cell_type": "markdown",
   "id": "2fb96b61-ec49-4e7e-a20f-025da8d0af8e",
   "metadata": {},
   "source": [
    "the 'self' keyword is used to refer to the instance of the class that is being operated on. It is used to access the attributes and methods of the class from within the class definition."
   ]
  },
  {
   "cell_type": "code",
   "execution_count": null,
   "id": "46f61ab2-4b34-4fae-9ab4-65c4cd09cd14",
   "metadata": {},
   "outputs": [],
   "source": [
    "# example:\n",
    "\n",
    "class Person1:\n",
    "    def __init__(self,name):\n",
    "        self.name=name\n",
    "        \n",
    "    def greet(self):\n",
    "        print(\"Hello, Mr.\", self.name)\n",
    "        \n",
    "p=Person1(\"Ashish Birla\")\n",
    "p.greet()"
   ]
  },
  {
   "cell_type": "code",
   "execution_count": null,
   "id": "718a3d18-116c-44e7-b7ac-381fea511a4e",
   "metadata": {},
   "outputs": [],
   "source": []
  },
  {
   "cell_type": "markdown",
   "id": "10d53a5b-a7f6-423d-a722-fdc423763214",
   "metadata": {},
   "source": [
    "### Q5. What is inheritance? Give an example for each type of inheritance."
   ]
  },
  {
   "cell_type": "markdown",
   "id": "e0f72c74-5f40-40cc-a6ae-316bd5412b5f",
   "metadata": {},
   "source": [
    "Inheritance is the concept that allows a class to inherit properties and behaviour from parent class. It is used to create a heirarchy of classes,allows for code reuse and reduce duplication of code"
   ]
  },
  {
   "cell_type": "markdown",
   "id": "4163c158-6366-408a-a209-9c0124bb0526",
   "metadata": {},
   "source": [
    "Types of Inheritance:\n",
    "\n",
    "1.Single Inheritance: A subclass Inherits from single Superclass.\n",
    "\n",
    "2.Multiple Inheritance: A subclass inherits from multiple superclasses.This allows a class to inherit attributes and                               methods from multiple sources.\n",
    "\n",
    "3.Multi-level Inheritance: A subclass inherits from a superclass, which in turn inherits from another superclass."
   ]
  },
  {
   "cell_type": "code",
   "execution_count": null,
   "id": "0b2b821d-8f87-4795-aebd-27996eeeb5cf",
   "metadata": {},
   "outputs": [],
   "source": [
    "# 1. Single Inheritance \n",
    "\n",
    "class Vehicle:\n",
    "    \n",
    "    def __init__(self, wheeler):\n",
    "        self.wheeler=wheeler\n",
    "\n",
    "class Car(Vehicle):\n",
    "    \n",
    "    def Name(self):\n",
    "        print(\"Thar\")\n",
    "        \n",
    "car=Car(4)\n",
    "car.Name()"
   ]
  },
  {
   "cell_type": "code",
   "execution_count": null,
   "id": "fb287362-b480-4e08-a215-78d4debcf646",
   "metadata": {},
   "outputs": [],
   "source": [
    "# 2. Multiple Inheritance:\n",
    "\n",
    "class Biotic:\n",
    "    \n",
    "    def __init__(self,name):\n",
    "        self.name=name\n",
    "    \n",
    "    def breathe(self):\n",
    "        print(\"Breathing\")\n",
    "        \n",
    "class Mammal(Biotic):\n",
    "    \n",
    "    def Animal(self):\n",
    "        print(\"Is Animal\")\n",
    "        \n",
    "class WingedAnimal(Biotic):\n",
    "    \n",
    "    def fly(self):\n",
    "        print(\"Is flying\")\n",
    "        \n",
    "class Bat(Mammal,WingedAnimal):\n",
    "    pass\n",
    "\n",
    "\n",
    "bat=Bat(\"Korona\")\n",
    "\n",
    "bat.breathe()\n",
    "bat.Animal()\n",
    "bat.fly()"
   ]
  },
  {
   "cell_type": "code",
   "execution_count": null,
   "id": "41fc1954-018c-4b45-9146-ff2273716a9b",
   "metadata": {},
   "outputs": [],
   "source": [
    "# 3. Multi-level Inheritance\n",
    "\n",
    "class Biotic:\n",
    "    \n",
    "    def __init__(self,name):\n",
    "        self.name=name\n",
    "    \n",
    "    def breathe(self):\n",
    "        print(\"Breathing\")\n",
    "        \n",
    "class Animal(Biotic):\n",
    "    \n",
    "    def move(self):\n",
    "        print(\"Is Moving\")\n",
    "        \n",
    "class Mammal(Animal):\n",
    "    \n",
    "    def feed_baby(self):\n",
    "        print(\"They feed their babies\")\n",
    "        \n",
    "dog=Mammal(\"Tommy\")\n",
    "dog.breathe()\n",
    "dog.feed_baby()\n",
    "dog.move()"
   ]
  },
  {
   "cell_type": "code",
   "execution_count": null,
   "id": "b03259e7-f3a7-46f6-91b5-413683e696a5",
   "metadata": {},
   "outputs": [],
   "source": []
  }
 ],
 "metadata": {
  "kernelspec": {
   "display_name": "Python 3 (ipykernel)",
   "language": "python",
   "name": "python3"
  },
  "language_info": {
   "codemirror_mode": {
    "name": "ipython",
    "version": 3
   },
   "file_extension": ".py",
   "mimetype": "text/x-python",
   "name": "python",
   "nbconvert_exporter": "python",
   "pygments_lexer": "ipython3",
   "version": "3.10.8"
  }
 },
 "nbformat": 4,
 "nbformat_minor": 5
}
